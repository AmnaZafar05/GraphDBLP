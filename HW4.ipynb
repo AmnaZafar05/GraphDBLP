{
 "cells": [
  {
   "cell_type": "code",
   "execution_count": 119,
   "metadata": {},
   "outputs": [],
   "source": [
    "import json\n",
    "from os.path import expanduser\n",
    "db = expanduser(\"~/Desktop/reduced_dblp.json\")\n",
    "database = json.loads(open(db, 'r').read())\n",
    "G = nx.Graph()"
   ]
  },
  {
   "cell_type": "code",
   "execution_count": 120,
   "metadata": {},
   "outputs": [],
   "source": [
    "# DAATABASE = List of PUBBLICATION\n",
    "# PUBBLICATION -> 6 DICT= authors, id_conference, id_conference_int, id_publication, id_publication_int, title\n",
    "# AUTHORS -> List of DICT (About 10500 in reduced json) -> {(author:Name , author_id:ID)}"
   ]
  },
  {
   "cell_type": "code",
   "execution_count": 121,
   "metadata": {},
   "outputs": [
    {
     "name": "stdout",
     "output_type": "stream",
     "text": [
      "Name: \n",
      "Type: Graph\n",
      "Number of nodes: 7406\n",
      "Number of edges: 0\n",
      "Average degree:   0.0000\n"
     ]
    }
   ],
   "source": [
    "import networkx as nx\n",
    "import itertools\n",
    "from collections import defaultdict\n",
    "\n",
    "def pubblicationDictionary(json):\n",
    "    pubb_dict = {}\n",
    "    for pubblication in json:\n",
    "        for author in pubblication[\"authors\"]:\n",
    "            if \"&\" in author[\"author\"]:\n",
    "                pass\n",
    "            else:\n",
    "                try:\n",
    "                    pubb_dict[(author[\"author\"],author[\"author_id\"])] += [(pubblication[\"id_publication_int\"],pubblication[\"id_publication\"])]\n",
    "                except:\n",
    "                    pubb_dict[(author[\"author\"],author[\"author_id\"])] = [(pubblication[\"id_publication_int\"],pubblication[\"id_publication\"])]\n",
    "    return(pubb_dict)\n",
    "\n",
    "\n",
    "dictAutor = pubblicationDictionary(database)\n",
    "\n",
    "for j in dictAutor.keys():\n",
    "    G.add_node(j[1], id = j[1], author=j[0])\n",
    "\n",
    "print(nx.info(G))"
   ]
  },
  {
   "cell_type": "code",
   "execution_count": 123,
   "metadata": {},
   "outputs": [
    {
     "name": "stdout",
     "output_type": "stream",
     "text": [
      "Name: \n",
      "Type: Graph\n",
      "Number of nodes: 7406\n",
      "Number of edges: 15368\n",
      "Average degree:   4.1501\n"
     ]
    }
   ],
   "source": [
    "dict_publ = {}\n",
    "for elem in range(len(database)):\n",
    "    d = database[elem]['authors']\n",
    "    for author in range(len(d)):\n",
    "        if \"&\" in d[author]['author']:\n",
    "            pass\n",
    "        else:\n",
    "            try:\n",
    "                dict_publ[database[elem]['id_publication']].append((d[author]['author'], d[author]['author_id']))\n",
    "            except:\n",
    "                dict_publ[database[elem]['id_publication']] = [(d[author]['author'], d[author]['author_id'])]\n",
    "\n",
    "dew = defaultdict(list)\n",
    "for keys in dictAutor.keys():\n",
    "    for i in range(len(dictAutor[keys])):\n",
    "        try:\n",
    "            dew[keys].append(dictAutor[keys][i][0])\n",
    "        except:\n",
    "            dew[keys]=dictAutor[keys][i][0]\n",
    "\n",
    "def Jaccard(a,b):\n",
    "    jaccard = (abs(len(list(set(a)|set(b))))-abs(len(list(set(a)&set(b)))))/abs(len(list(set(a)|set(b))))\n",
    "    return jaccard\n",
    "\n",
    "# ADD EDGE            \n",
    "for k,v in dict_publ.items():\n",
    "    for i in itertools.combinations(v,2):\n",
    "        G.add_edge(i[0][1],i[1][1], pubblication=k[0], pubblication_int = k[1], weight=Jaccard(dew[i[0]],dew[i[1]]))\n",
    "\n",
    "print(nx.info(G))\n"
   ]
  },
  {
   "cell_type": "code",
   "execution_count": 124,
   "metadata": {},
   "outputs": [
    {
     "name": "stdout",
     "output_type": "stream",
     "text": [
      "3001\n"
     ]
    }
   ],
   "source": [
    "elarge=[(u,v) for (u,v,d) in G.edges(data=True) if d['weight'] == 0.5]\n",
    "print(len(elarge))"
   ]
  },
  {
   "cell_type": "code",
   "execution_count": null,
   "metadata": {
    "collapsed": true
   },
   "outputs": [],
   "source": []
  }
 ],
 "metadata": {
  "kernelspec": {
   "display_name": "Python 3",
   "language": "python",
   "name": "python3"
  },
  "language_info": {
   "codemirror_mode": {
    "name": "ipython",
    "version": 3
   },
   "file_extension": ".py",
   "mimetype": "text/x-python",
   "name": "python",
   "nbconvert_exporter": "python",
   "pygments_lexer": "ipython3",
   "version": "3.6.1"
  }
 },
 "nbformat": 4,
 "nbformat_minor": 2
}
